{
 "cells": [
  {
   "cell_type": "markdown",
   "metadata": {},
   "source": [
    "# 0. Colab housekeeping – GPU & Drive (optional)"
   ]
  },
  {
   "cell_type": "code",
   "execution_count": null,
   "metadata": {},
   "outputs": [],
   "source": [
    "!nvidia-smi -L        # confirm you got a GPU\n",
    "from google.colab import drive\n",
    "drive.mount(\"/content/drive\")"
   ]
  },
  {
   "cell_type": "markdown",
   "metadata": {},
   "source": [
    "# 1. Clone the repo"
   ]
  },
  {
   "cell_type": "code",
   "execution_count": null,
   "metadata": {},
   "outputs": [],
   "source": [
    "%cd /content\n",
    "!git clone https://github.com/utkarsh231/ImageCompression vit-compression\n",
    "%cd vit-compression"
   ]
  },
  {
   "cell_type": "markdown",
   "metadata": {},
   "source": [
    "# 2. Install Python dependencies"
   ]
  },
  {
   "cell_type": "code",
   "execution_count": null,
   "metadata": {},
   "outputs": [],
   "source": [
    "!pip install -qr requirements.txt kagglehub"
   ]
  },
  {
   "cell_type": "markdown",
   "metadata": {},
   "source": [
    "# 3. Set Kaggle credentials (for crawford/cat-dataset)"
   ]
  },
  {
   "cell_type": "code",
   "execution_count": null,
   "metadata": {},
   "outputs": [],
   "source": [
    "import json, os, textwrap, getpass, pathlib, pathlib\n",
    "KAGGLE_JSON = textwrap.dedent(\"\"\"\n",
    "{\n",
    "  \"username\":  \"YOUR_KAGGLE_USERNAME\",\n",
    "  \"key\":       \"YOUR_KAGGLE_API_KEY\"\n",
    "}\n",
    "\"\"\").strip()\n",
    "\n",
    "os.makedirs(\"/root/.kaggle\", exist_ok=True)\n",
    "with open(\"/root/.kaggle/kaggle.json\", \"w\") as f:\n",
    "    f.write(KAGGLE_JSON)\n",
    "os.chmod(\"/root/.kaggle/kaggle.json\", 0o600)"
   ]
  },
  {
   "cell_type": "markdown",
   "metadata": {},
   "source": [
    "#  4. Quick sanity-check training run (10 epochs, tiny lr)\n",
    "    Uses ImageNet sample tar shards shipped with WebDataset for a 2-minute smoke test."
   ]
  },
  {
   "cell_type": "code",
   "execution_count": null,
   "metadata": {},
   "outputs": [],
   "source": [
    "!python train.py \\\n",
    "    data.dir=/content/vit-compression/sample_shards \\\n",
    "    data.val_dir=kaggle_cats \\\n",
    "    trainer.epochs=10 \\\n",
    "    trainer.lr=5e-4 \\\n",
    "    trainer.wandb=false \\\n",
    "    trainer.ckpt_dir=/content/drive/MyDrive/compression_ckpts\n",
    "\n",
    "# (Expect loss, bpp, mse, ms_ssim, lpips logs every ~50 steps.)"
   ]
  },
  {
   "cell_type": "markdown",
   "metadata": {},
   "source": [
    "# 5. Single-image inference"
   ]
  },
  {
   "cell_type": "code",
   "execution_count": null,
   "metadata": {},
   "outputs": [],
   "source": [
    "# Download a Kodak “barb” image for demo\n",
    "\n",
    "# choose the last checkpoint that just finished (lam0.0015_e10.pt)\n",
    "CKPT = \"/content/drive/MyDrive/compression_ckpts/lam0.0015_e10.pt\"\n",
    "\n",
    "!python inference.py \\\n",
    "        --ckpt $CKPT \\\n",
    "        --img  barb.png\n",
    "\n",
    "from IPython.display import Image, display\n",
    "print(\"Input:\")\n",
    "display(Image(\"barb.png\"))\n",
    "print(\"Reconstruction:\")\n",
    "display(Image(\"barb.recon.png\"))"
   ]
  },
  {
   "cell_type": "code",
   "execution_count": 6,
   "metadata": {},
   "outputs": [
    {
     "name": "stdout",
     "output_type": "stream",
     "text": [
      "dict_keys(['cls', 'json', 'webp', '__key__', '__url__'])\n"
     ]
    }
   ],
   "source": [
    "from datasets import load_dataset\n",
    "ds = load_dataset(\"timm/imagenet-w21-webp-wds\", streaming=True, split=\"train\")\n",
    "\n",
    "sample = next(iter(ds))\n",
    "print(sample.keys())        # → dict_keys(['__key__', 'webp', 'cls'])"
   ]
  },
  {
   "cell_type": "code",
   "execution_count": 8,
   "metadata": {},
   "outputs": [
    {
     "name": "stdout",
     "output_type": "stream",
     "text": [
      "torch.Size([8, 3, 256, 256]) tensor([ 6355, 14407, 15592,  3377,  9226])\n"
     ]
    }
   ],
   "source": [
    "import io, json\n",
    "from datasets import load_dataset\n",
    "from PIL import Image\n",
    "import torch\n",
    "from torchvision.transforms import Compose, RandomResizedCrop, ToTensor, Normalize\n",
    "\n",
    "# 1. stream the shards (no 850-GB download)\n",
    "stream_ds = load_dataset(\n",
    "    \"timm/imagenet-w21-webp-wds\",\n",
    "    split=\"train\",\n",
    "    streaming=True,\n",
    ")\n",
    "\n",
    "# 2. torchvision-style transform\n",
    "tfm = Compose([\n",
    "    RandomResizedCrop(256),\n",
    "    ToTensor(),\n",
    "    Normalize(mean=[0.485,0.456,0.406], std=[0.229,0.224,0.225]),\n",
    "])\n",
    "\n",
    "def iter_batches(dataset, batch_size=16):\n",
    "    images, labels = [], []\n",
    "    for sample in dataset:\n",
    "        # already a PIL Image\n",
    "        img = sample[\"webp\"].convert(\"RGB\")   # ensure 3-channel RGB\n",
    "        images.append(tfm(img))\n",
    "        labels.append(int(sample[\"cls\"]))\n",
    "\n",
    "        if len(images) == batch_size:\n",
    "            yield torch.stack(images), torch.tensor(labels)\n",
    "            images, labels = [], []\n",
    "\n",
    "# 3. quick smoke test\n",
    "batch_iter = iter_batches(stream_ds, batch_size=8)\n",
    "x, y = next(batch_iter)\n",
    "print(x.shape, y[:5])\n",
    "# -> torch.Size([8, 3, 256, 256]) tensor([1234,  593,  821, ...])"
   ]
  },
  {
   "cell_type": "code",
   "execution_count": 10,
   "metadata": {},
   "outputs": [
    {
     "name": "stdout",
     "output_type": "stream",
     "text": [
      "['.gitattributes', 'LICENSE', 'README.md', '_info.json', '_info.yaml', 'imagenet_w21_webp-train-0000.tar', 'imagenet_w21_webp-train-0001.tar', 'imagenet_w21_webp-train-0002.tar', 'imagenet_w21_webp-train-0003.tar', 'imagenet_w21_webp-train-0004.tar']\n"
     ]
    }
   ],
   "source": [
    "from huggingface_hub import list_repo_files\n",
    "files = list_repo_files(\"timm/imagenet-w21-webp-wds\", repo_type=\"dataset\")\n",
    "print(files[:10])          # peek at first few entries"
   ]
  },
  {
   "cell_type": "code",
   "execution_count": 12,
   "metadata": {},
   "outputs": [
    {
     "name": "stderr",
     "output_type": "stream",
     "text": [
      "/Users/utkarsh/Desktop/utkarsh/Private Projects/Image Compression/.venv/lib/python3.10/site-packages/huggingface_hub/file_download.py:799: UserWarning: Not enough free disk space to download the file. The expected file size is: 642.83 MB. The target location data/imagenet21k_wds/.cache/huggingface/download only has 182.79 MB free disk space.\n",
      "/Users/utkarsh/Desktop/utkarsh/Private Projects/Image Compression/.venv/lib/python3.10/site-packages/huggingface_hub/file_download.py:799: UserWarning: Not enough free disk space to download the file. The expected file size is: 642.83 MB. The target location data/imagenet21k_wds only has 192.00 MB free disk space.\n"
     ]
    },
    {
     "ename": "OSError",
     "evalue": "[Errno 28] No space left on device",
     "output_type": "error",
     "traceback": [
      "\u001b[0;31m---------------------------------------------------------------------------\u001b[0m",
      "\u001b[0;31mOSError\u001b[0m                                   Traceback (most recent call last)",
      "Cell \u001b[0;32mIn[12], line 14\u001b[0m\n\u001b[1;32m     12\u001b[0m \u001b[38;5;28;01mfor\u001b[39;00m i \u001b[38;5;129;01min\u001b[39;00m \u001b[38;5;28mrange\u001b[39m(train_shards):\n\u001b[1;32m     13\u001b[0m     fname \u001b[38;5;241m=\u001b[39m \u001b[38;5;124mf\u001b[39m\u001b[38;5;124m\"\u001b[39m\u001b[38;5;124mimagenet_w21_webp-train-\u001b[39m\u001b[38;5;132;01m{\u001b[39;00mi\u001b[38;5;132;01m:\u001b[39;00m\u001b[38;5;124m04d\u001b[39m\u001b[38;5;132;01m}\u001b[39;00m\u001b[38;5;124m.tar\u001b[39m\u001b[38;5;124m\"\u001b[39m      \u001b[38;5;66;03m# <-- 4 digits\u001b[39;00m\n\u001b[0;32m---> 14\u001b[0m     \u001b[43mhf_hub_download\u001b[49m\u001b[43m(\u001b[49m\u001b[43mrepo\u001b[49m\u001b[43m,\u001b[49m\u001b[43m \u001b[49m\u001b[43mfname\u001b[49m\u001b[43m,\u001b[49m\u001b[43m \u001b[49m\u001b[43mrepo_type\u001b[49m\u001b[38;5;241;43m=\u001b[39;49m\u001b[38;5;124;43m\"\u001b[39;49m\u001b[38;5;124;43mdataset\u001b[39;49m\u001b[38;5;124;43m\"\u001b[39;49m\u001b[43m,\u001b[49m\n\u001b[1;32m     15\u001b[0m \u001b[43m                    \u001b[49m\u001b[43mlocal_dir\u001b[49m\u001b[38;5;241;43m=\u001b[39;49m\u001b[43mdest\u001b[49m\u001b[43m,\u001b[49m\u001b[43m \u001b[49m\u001b[43mforce_download\u001b[49m\u001b[38;5;241;43m=\u001b[39;49m\u001b[38;5;28;43;01mFalse\u001b[39;49;00m\u001b[43m)\u001b[49m\n\u001b[1;32m     17\u001b[0m \u001b[38;5;66;03m# ---- validation ----------------------------------------------------------\u001b[39;00m\n\u001b[1;32m     18\u001b[0m \u001b[38;5;28;01mfor\u001b[39;00m i \u001b[38;5;129;01min\u001b[39;00m \u001b[38;5;28mrange\u001b[39m(val_shards):\n",
      "File \u001b[0;32m~/Desktop/utkarsh/Private Projects/Image Compression/.venv/lib/python3.10/site-packages/huggingface_hub/utils/_validators.py:114\u001b[0m, in \u001b[0;36m_inner_fn\u001b[0;34m(*args, **kwargs)\u001b[0m\n",
      "File \u001b[0;32m~/Desktop/utkarsh/Private Projects/Image Compression/.venv/lib/python3.10/site-packages/huggingface_hub/file_download.py:988\u001b[0m, in \u001b[0;36mhf_hub_download\u001b[0;34m(repo_id, filename, subfolder, repo_type, revision, library_name, library_version, cache_dir, local_dir, user_agent, force_download, proxies, etag_timeout, token, local_files_only, headers, endpoint, resume_download, force_filename, local_dir_use_symlinks)\u001b[0m\n",
      "File \u001b[0;32m~/Desktop/utkarsh/Private Projects/Image Compression/.venv/lib/python3.10/site-packages/huggingface_hub/file_download.py:1290\u001b[0m, in \u001b[0;36m_hf_hub_download_to_local_dir\u001b[0;34m(local_dir, repo_id, repo_type, filename, revision, endpoint, etag_timeout, headers, proxies, token, cache_dir, force_download, local_files_only)\u001b[0m\n",
      "File \u001b[0;32m~/Desktop/utkarsh/Private Projects/Image Compression/.venv/lib/python3.10/site-packages/huggingface_hub/file_download.py:1725\u001b[0m, in \u001b[0;36m_download_to_tmp_and_move\u001b[0;34m(incomplete_path, destination_path, url_to_download, proxies, headers, expected_size, filename, force_download, etag, xet_file_data)\u001b[0m\n",
      "File \u001b[0;32m~/Desktop/utkarsh/Private Projects/Image Compression/.venv/lib/python3.10/site-packages/huggingface_hub/file_download.py:497\u001b[0m, in \u001b[0;36mhttp_get\u001b[0;34m(url, temp_file, proxies, resume_size, headers, expected_size, displayed_filename, _nb_retries, _tqdm_bar)\u001b[0m\n",
      "\u001b[0;31mOSError\u001b[0m: [Errno 28] No space left on device"
     ]
    }
   ],
   "source": [
    "from huggingface_hub import hf_hub_download\n",
    "from pathlib import Path\n",
    "\n",
    "dest = Path(\"data/imagenet21k_wds\")\n",
    "dest.mkdir(parents=True, exist_ok=True)\n",
    "\n",
    "repo = \"timm/imagenet-w21-webp-wds\"\n",
    "train_shards = 64        # pick 4096 to grab the full set\n",
    "val_shards   = 64        # 64 validation shards exist\n",
    "\n",
    "# ---- train ---------------------------------------------------------------\n",
    "for i in range(train_shards):\n",
    "    fname = f\"imagenet_w21_webp-train-{i:04d}.tar\"      # <-- 4 digits\n",
    "    hf_hub_download(repo, fname, repo_type=\"dataset\",\n",
    "                    local_dir=dest, force_download=False)\n",
    "\n",
    "# ---- validation ----------------------------------------------------------\n",
    "for i in range(val_shards):\n",
    "    fname = f\"imagenet_w21_webp-validation-{i:04d}.tar\"\n",
    "    hf_hub_download(repo, fname, repo_type=\"dataset\",\n",
    "                    local_dir=dest, force_download=False)"
   ]
  },
  {
   "cell_type": "code",
   "execution_count": null,
   "metadata": {},
   "outputs": [
    {
     "name": "stderr",
     "output_type": "stream",
     "text": [
      "/Users/utkarsh/Desktop/utkarsh/Private Projects/Image Compression/.venv/lib/python3.10/site-packages/tqdm/auto.py:21: TqdmWarning: IProgress not found. Please update jupyter and ipywidgets. See https://ipywidgets.readthedocs.io/en/stable/user_install.html\n",
      "  from .autonotebook import tqdm as notebook_tqdm\n",
      "/Users/utkarsh/Desktop/utkarsh/Private Projects/Image Compression/.venv/lib/python3.10/site-packages/webdataset/compat.py:379: UserWarning: WebDataset(shardshuffle=...) is None; set explicitly to False or a number\n",
      "  warnings.warn(\"WebDataset(shardshuffle=...) is None; set explicitly to False or a number\")\n"
     ]
    }
   ],
   "source": [
    "import webdataset as wds\n",
    "from huggingface_hub import HfFileSystem, get_token, hf_hub_url\n",
    "\n",
    "# Login using e.g. `huggingface-cli login` to access this dataset\n",
    "fs = HfFileSystem()\n",
    "files = [fs.resolve_path(path) for path in fs.glob(\"hf://datasets/timm/imagenet-w21-webp-wds/**/*-train-*.tar\")]\n",
    "urls = [hf_hub_url(file.repo_id, file.path_in_repo, repo_type=\"dataset\") for file in files]\n",
    "urls = f\"pipe: curl -s -L -H 'Authorization:Bearer {get_token()}' {'::'.join(urls)}\"\n",
    "\n",
    "ds = wds.WebDataset(urls).decode()"
   ]
  },
  {
   "cell_type": "code",
   "execution_count": null,
   "metadata": {},
   "outputs": [],
   "source": []
  }
 ],
 "metadata": {
  "kernelspec": {
   "display_name": ".venv",
   "language": "python",
   "name": "python3"
  },
  "language_info": {
   "codemirror_mode": {
    "name": "ipython",
    "version": 3
   },
   "file_extension": ".py",
   "mimetype": "text/x-python",
   "name": "python",
   "nbconvert_exporter": "python",
   "pygments_lexer": "ipython3",
   "version": "3.10.undefined"
  }
 },
 "nbformat": 4,
 "nbformat_minor": 2
}
