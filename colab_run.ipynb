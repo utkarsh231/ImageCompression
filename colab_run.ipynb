{
 "cells": [
  {
   "cell_type": "markdown",
   "metadata": {},
   "source": [
    "# 0. Colab housekeeping – GPU & Drive (optional)"
   ]
  },
  {
   "cell_type": "code",
   "execution_count": null,
   "metadata": {
    "vscode": {
     "languageId": "plaintext"
    }
   },
   "outputs": [],
   "source": [
    "!nvidia-smi -L        # confirm you got a GPU\n",
    "from google.colab import drive\n",
    "drive.mount(\"/content/drive\")"
   ]
  },
  {
   "cell_type": "markdown",
   "metadata": {},
   "source": [
    "# 1. Clone the repo"
   ]
  },
  {
   "cell_type": "code",
   "execution_count": null,
   "metadata": {
    "vscode": {
     "languageId": "plaintext"
    }
   },
   "outputs": [],
   "source": [
    "%cd /content\n",
    "!git clone https://github.com/utkarsh231/ImageCompression vit-compression\n",
    "%cd vit-compression"
   ]
  },
  {
   "cell_type": "markdown",
   "metadata": {},
   "source": [
    "# 2. Install Python dependencies"
   ]
  },
  {
   "cell_type": "code",
   "execution_count": null,
   "metadata": {
    "vscode": {
     "languageId": "plaintext"
    }
   },
   "outputs": [],
   "source": [
    "!pip install -qr requirements.txt kagglehub"
   ]
  },
  {
   "cell_type": "markdown",
   "metadata": {},
   "source": [
    "# 3. Set Kaggle credentials (for crawford/cat-dataset)"
   ]
  },
  {
   "cell_type": "code",
   "execution_count": null,
   "metadata": {
    "vscode": {
     "languageId": "plaintext"
    }
   },
   "outputs": [],
   "source": [
    "import json, os, textwrap, getpass, pathlib, pathlib\n",
    "KAGGLE_JSON = textwrap.dedent(\"\"\"\n",
    "{\n",
    "  \"username\":  \"YOUR_KAGGLE_USERNAME\",\n",
    "  \"key\":       \"YOUR_KAGGLE_API_KEY\"\n",
    "}\n",
    "\"\"\").strip()\n",
    "\n",
    "os.makedirs(\"/root/.kaggle\", exist_ok=True)\n",
    "with open(\"/root/.kaggle/kaggle.json\", \"w\") as f:\n",
    "    f.write(KAGGLE_JSON)\n",
    "os.chmod(\"/root/.kaggle/kaggle.json\", 0o600)"
   ]
  },
  {
   "cell_type": "markdown",
   "metadata": {},
   "source": [
    "#  4. Quick sanity-check training run (10 epochs, tiny lr)\n",
    "    Uses ImageNet sample tar shards shipped with WebDataset for a 2-minute smoke test."
   ]
  },
  {
   "cell_type": "code",
   "execution_count": null,
   "metadata": {
    "vscode": {
     "languageId": "plaintext"
    }
   },
   "outputs": [],
   "source": [
    "!python train.py \\\n",
    "    data.dir=/content/vit-compression/sample_shards \\\n",
    "    data.val_dir=kaggle_cats \\\n",
    "    trainer.epochs=10 \\\n",
    "    trainer.lr=5e-4 \\\n",
    "    trainer.wandb=false \\\n",
    "    trainer.ckpt_dir=/content/drive/MyDrive/compression_ckpts\n",
    "\n",
    "# (Expect loss, bpp, mse, ms_ssim, lpips logs every ~50 steps.)"
   ]
  },
  {
   "cell_type": "markdown",
   "metadata": {},
   "source": [
    "# 5. Single-image inference"
   ]
  },
  {
   "cell_type": "code",
   "execution_count": null,
   "metadata": {
    "vscode": {
     "languageId": "plaintext"
    }
   },
   "outputs": [],
   "source": [
    "# Download a Kodak “barb” image for demo\n",
    "\n",
    "# choose the last checkpoint that just finished (lam0.0015_e10.pt)\n",
    "CKPT = \"/content/drive/MyDrive/compression_ckpts/lam0.0015_e10.pt\"\n",
    "\n",
    "!python inference.py \\\n",
    "        --ckpt $CKPT \\\n",
    "        --img  barb.png\n",
    "\n",
    "from IPython.display import Image, display\n",
    "print(\"Input:\")\n",
    "display(Image(\"barb.png\"))\n",
    "print(\"Reconstruction:\")\n",
    "display(Image(\"barb.recon.png\"))"
   ]
  }
 ],
 "metadata": {
  "language_info": {
   "name": "python"
  }
 },
 "nbformat": 4,
 "nbformat_minor": 2
}
